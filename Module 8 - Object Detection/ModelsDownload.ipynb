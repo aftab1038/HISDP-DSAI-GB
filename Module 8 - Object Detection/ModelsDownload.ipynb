{
  "nbformat": 4,
  "nbformat_minor": 0,
  "metadata": {
    "colab": {
      "provenance": []
    },
    "kernelspec": {
      "name": "python3",
      "display_name": "Python 3"
    },
    "language_info": {
      "name": "python"
    }
  },
  "cells": [
    {
      "cell_type": "code",
      "execution_count": 2,
      "metadata": {
        "colab": {
          "base_uri": "https://localhost:8080/"
        },
        "collapsed": true,
        "id": "bmpUPZTcaApg",
        "outputId": "a6fb1f13-28cc-41fd-8417-7e9b51eac06c"
      },
      "outputs": [
        {
          "output_type": "stream",
          "name": "stdout",
          "text": [
            "Mounted at /content/drive\n"
          ]
        }
      ],
      "source": [
        "# prompt: mount\n",
        "\n",
        "from google.colab import drive\n",
        "drive.mount('/content/drive')\n"
      ]
    },
    {
      "cell_type": "code",
      "source": [
        "# prompt: if directory exist  and save the model ResNet50\n",
        "\n",
        "import os\n",
        "from tensorflow.keras.applications.resnet50 import ResNet50\n",
        "\n",
        "# Check if the directory exists\n",
        "directory_path = '/content/drive/MyDrive/saved_models'  # Replace with your desired path\n",
        "\n",
        "if not os.path.exists(directory_path):\n",
        "    os.makedirs(directory_path)\n",
        "    print(f\"Directory '{directory_path}' created successfully.\")\n",
        "else:\n",
        "    print(f\"Directory '{directory_path}' already exists.\")\n",
        "\n",
        "# Load the pre-trained ResNet50 model\n",
        "model = ResNet50(weights='imagenet')\n",
        "\n",
        "# Save the model\n",
        "model.save(os.path.join(directory_path, 'resnet50_model.h5'))\n",
        "\n",
        "print(\"Model saved successfully!\")"
      ],
      "metadata": {
        "id": "CR4ENpNbaxww"
      },
      "execution_count": null,
      "outputs": []
    },
    {
      "cell_type": "code",
      "source": [
        "# prompt: download in the saved_models R-CNN, Fast-RCNN, and Faster-RCNN\n",
        "\n",
        "import os\n",
        "from google.colab import drive\n",
        "\n",
        "# Mount Google Drive\n",
        "drive.mount('/content/drive')\n",
        "\n",
        "# Specify the directory to save the models\n",
        "save_dir = '/content/drive/MyDrive/saved_models'\n",
        "\n",
        "# Create the directory if it doesn't exist\n",
        "if not os.path.exists(save_dir):\n",
        "    os.makedirs(save_dir)\n",
        "\n",
        "# Download R-CNN (example, replace with actual download command)\n",
        "!wget -O {os.path.join(save_dir, 'r-cnn.zip')} <ACTUAL_R-CNN_DOWNLOAD_LINK>\n",
        "\n",
        "# Download Fast R-CNN (example, replace with actual download command)\n",
        "!wget -O {os.path.join(save_dir, 'fast-r-cnn.zip')} <ACTUAL_FAST_R-CNN_DOWNLOAD_LINK>\n",
        "\n",
        "\n",
        "# Download Faster R-CNN (example, replace with actual download command)\n",
        "!wget -O {os.path.join(save_dir, 'faster-r-cnn.zip')} <ACTUAL_FASTER_R-CNN_DOWNLOAD_LINK>\n",
        "\n",
        "\n",
        "print(\"Model download complete!\")\n",
        "\n",
        "# You can add code here to unzip the downloaded models if they are in zip format.\n",
        "# For example:\n",
        "# import zipfile\n",
        "# with zipfile.ZipFile(os.path.join(save_dir, 'r-cnn.zip'), 'r') as zip_ref:\n",
        "#     zip_ref.extractall(save_dir)"
      ],
      "metadata": {
        "id": "AIyXat22bVKE"
      },
      "execution_count": null,
      "outputs": []
    }
  ]
}