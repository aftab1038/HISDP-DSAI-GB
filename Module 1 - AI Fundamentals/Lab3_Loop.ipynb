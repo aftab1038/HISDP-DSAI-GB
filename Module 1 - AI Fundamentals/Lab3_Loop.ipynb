{
 "cells": [
  {
   "cell_type": "markdown",
   "metadata": {},
   "source": [
    "Task 1: Write a program that asks the user about the number of values he/she wants to enter. Than\n",
    "enter the values as per the required number, calculate its sum and identify the smallest value among\n",
    "them. "
   ]
  },
  {
   "cell_type": "code",
   "execution_count": 6,
   "metadata": {},
   "outputs": [
    {
     "name": "stdout",
     "output_type": "stream",
     "text": [
      "The sum is: 149\n",
      "The smallest value of entered numbers is 4\n"
     ]
    }
   ],
   "source": [
    "size = int(input(\"Enter the number of values to be inputed: \"))\n",
    "sum = 0\n",
    "i=0\n",
    "while i<size:\n",
    "    num = int(input(\"Enter the number: \"))\n",
    "    sum+=num\n",
    "    if i == 0:\n",
    "        smallest = num\n",
    "    if num < smallest:\n",
    "        smallest = num\n",
    "    i+=1\n",
    "\n",
    "print(\"The sum is:\", sum)\n",
    "print(\"The smallest value of entered numbers is\", smallest)"
   ]
  },
  {
   "cell_type": "markdown",
   "metadata": {},
   "source": [
    "Task 2: The factorial function is used frequently in probability problems. The factorial of a positive\n",
    "integer n (written n! and pronounced “n factorial”) is equal to the product of the positive integers\n",
    "from 1 to n.<br>\n",
    "Write a function factorial that accepts an integer as parameter and returns its factorial.<br>\n",
    "Using the factorial function, write a program that evaluates the factorials of the integers from 1 to 5.<br>\n",
    "Print the results in tabular format as following.<br>"
   ]
  },
  {
   "cell_type": "code",
   "execution_count": 9,
   "metadata": {},
   "outputs": [
    {
     "name": "stdout",
     "output_type": "stream",
     "text": [
      "X\tFactorial of X\n",
      "1\t1\n",
      "2\t2\n",
      "3\t6\n",
      "4\t24\n",
      "5\t120\n"
     ]
    }
   ],
   "source": [
    "def main():\n",
    "    print(\"X\\tFactorial of X\")\n",
    "    print(f\"{1}\\t{Factorial(1)}\")\n",
    "    print(f\"{2}\\t{Factorial(2)}\")\n",
    "    print(f\"{3}\\t{Factorial(3)}\")\n",
    "    print(f\"{4}\\t{Factorial(4)}\")\n",
    "    print(f\"{5}\\t{Factorial(5)}\")\n",
    "\n",
    "def Factorial(num):\n",
    "    if num == 0:\n",
    "        return 1\n",
    "    elif num > 0:\n",
    "        factorial = 1\n",
    "        i = 1\n",
    "        while i<=num:\n",
    "            factorial = factorial * i\n",
    "            i+=1\n",
    "        return factorial\n",
    "    else:\n",
    "        return \"Complex number\"\n",
    "    \n",
    "main()"
   ]
  },
  {
   "cell_type": "markdown",
   "metadata": {},
   "source": [
    "Task 3: Write a program that plays an incredibly stupid number-guessing game. The user will try to\n",
    "guess the secret number until they get it right. That means it will keep looping as long as the guess is\n",
    "different from the secret number. You must store the secret number in a variable, and use that\n",
    "variable throughout. The secret number itself must not appear in the program at all, except in the\n",
    "one line where you store it into a variable. Sample output is as following:"
   ]
  },
  {
   "cell_type": "code",
   "execution_count": 10,
   "metadata": {},
   "outputs": [
    {
     "name": "stdout",
     "output_type": "stream",
     "text": [
      "I have chosen a number between 1 to 10. Try to guess it.\n",
      "That's incorrect! You guessed it.\n",
      "That's incorrect! You guessed it.\n",
      "That's incorrect! You guessed it.\n",
      "That's right! You guessed it.\n"
     ]
    }
   ],
   "source": [
    "print(\"I have chosen a number between 1 to 10. Try to guess it.\")\n",
    "num = 6\n",
    "while True:\n",
    "    inptNum = int(input(\"Your guess: \"))\n",
    "    if inptNum == num:\n",
    "        print(\"That's right! You guessed it.\")\n",
    "        break\n",
    "    else:\n",
    "        print(\"That's incorrect! You guessed it.\")\n",
    "        pass"
   ]
  },
  {
   "cell_type": "markdown",
   "metadata": {},
   "source": [
    "Task 4: The greatest common divisor (GCD) of two integers is the largest integer that evenly\n",
    "divides each of the two numbers. Write function gcd that returns the greatest common divisor of\n",
    "two integers.<br>\n",
    "Use the gcd function in your program to determine the GCD of the numbers in the sample output:"
   ]
  },
  {
   "cell_type": "code",
   "execution_count": 12,
   "metadata": {},
   "outputs": [
    {
     "name": "stdout",
     "output_type": "stream",
     "text": [
      "Enter two integers: 75 225\n",
      "The greatest common divider of 75 and 225 is 75\n"
     ]
    }
   ],
   "source": [
    "def main():\n",
    "    print(\"Enter two integers: \",end=\"\")\n",
    "    x = int(input())\n",
    "    y = int(input())\n",
    "    print(x,y)\n",
    "    print(f\"The greatest common divider of {x} and {y} is {GCD(x,y)}\")\n",
    "\n",
    "def GCD(x, y):\n",
    "    if x > y:\n",
    "        small = y\n",
    "    else:\n",
    "        small = x\n",
    "    for i in range(1, small + 1):\n",
    "        if((x % i == 0) and (y % i == 0)):\n",
    "            gcd = i\n",
    "             \n",
    "    return gcd\n",
    "\n",
    "main()"
   ]
  },
  {
   "cell_type": "markdown",
   "metadata": {},
   "source": [
    "Task 5: An integer is said to be prime if it is divisible only by 1 and itself. For example, 2, 3, 5 and 7\n",
    "are prime, but 4, 6, 8 and 9 are not.<br>\n",
    "a) Write a function that determines if a number is prime.<br>\n",
    "b) Use this function in a program that determines and prints all the prime numbers between 1 and\n",
    "10,000."
   ]
  },
  {
   "cell_type": "code",
   "execution_count": 3,
   "metadata": {},
   "outputs": [
    {
     "name": "stdout",
     "output_type": "stream",
     "text": [
      "The prime numbers from 1 to 10,000 are: \n",
      "\t 2 \t\t 3 \t\t 5 \t\t 7 \t\t 11 \t\t 13 \t\t 17 \t\t 19 \t\t 23 \t\t 29 \t\t 31 \t\t 37 \t\t 41 \t\t 43 \t\t 47 \t\t 53 \t\t 59 \t\t 61 \t\t 67 \t\t 71 \t\t 73 \t\t 79 \t\t 83 \t\t 89 \t\t 97 \t\t 101 \t\t 103 \t\t 107 \t\t 109 \t\t 113 \t\t 127 \t\t 131 \t\t 137 \t\t 139 \t\t 149 \t\t 151 \t\t 157 \t\t 163 \t\t 167 \t\t 173 \t\t 179 \t\t 181 \t\t 191 \t\t 193 \t\t 197 \t\t 199 \t\t 211 \t\t 223 \t\t 227 \t\t 229 \t\t 233 \t\t 239 \t\t 241 \t\t 251 \t\t 257 \t\t 263 \t\t 269 \t\t 271 \t\t 277 \t\t 281 \t\t 283 \t\t 293 \t\t 307 \t\t 311 \t\t 313 \t\t 317 \t\t 331 \t\t 337 \t\t 347 \t\t 349 \t\t 353 \t\t 359 \t\t 367 \t\t 373 \t\t 379 \t\t 383 \t\t 389 \t\t 397 \t\t 401 \t\t 409 \t\t 419 \t\t 421 \t\t 431 \t\t 433 \t\t 439 \t\t 443 \t\t 449 \t\t 457 \t\t 461 \t\t 463 \t\t 467 \t\t 479 \t\t 487 \t\t 491 \t\t 499 \t\t 503 \t\t 509 \t\t 521 \t\t 523 \t\t 541 \t\t 547 \t\t 557 \t\t 563 \t\t 569 \t\t 571 \t\t 577 \t\t 587 \t\t 593 \t\t 599 \t\t 601 \t\t 607 \t\t 613 \t\t 617 \t\t 619 \t\t 631 \t\t 641 \t\t 643 \t\t 647 \t\t 653 \t\t 659 \t\t 661 \t\t 673 \t\t 677 \t\t 683 \t\t 691 \t\t 701 \t\t 709 \t\t 719 \t\t 727 \t\t 733 \t\t 739 \t\t 743 \t\t 751 \t\t 757 \t\t 761 \t\t 769 \t\t 773 \t\t 787 \t\t 797 \t\t 809 \t\t 811 \t\t 821 \t\t 823 \t\t 827 \t\t 829 \t\t 839 \t\t 853 \t\t 857 \t\t 859 \t\t 863 \t\t 877 \t\t 881 \t\t 883 \t\t 887 \t\t 907 \t\t 911 \t\t 919 \t\t 929 \t\t 937 \t\t 941 \t\t 947 \t\t 953 \t\t 967 \t\t 971 \t\t 977 \t\t 983 \t\t 991 \t\t 997 \t\t 1009 \t\t 1013 \t\t 1019 \t\t 1021 \t\t 1031 \t\t 1033 \t\t 1039 \t\t 1049 \t\t 1051 \t\t 1061 \t\t 1063 \t\t 1069 \t\t 1087 \t\t 1091 \t\t 1093 \t\t 1097 \t\t 1103 \t\t 1109 \t\t 1117 \t\t 1123 \t\t 1129 \t\t 1151 \t\t 1153 \t\t 1163 \t\t 1171 \t\t 1181 \t\t 1187 \t\t 1193 \t\t 1201 \t\t 1213 \t\t 1217 \t\t 1223 \t\t 1229 \t\t 1231 \t\t 1237 \t\t 1249 \t\t 1259 \t\t 1277 \t\t 1279 \t\t 1283 \t\t 1289 \t\t 1291 \t\t 1297 \t\t 1301 \t\t 1303 \t\t 1307 \t\t 1319 \t\t 1321 \t\t 1327 \t\t 1361 \t\t 1367 \t\t 1373 \t\t 1381 \t\t 1399 \t\t 1409 \t\t 1423 \t\t 1427 \t\t 1429 \t\t 1433 \t\t 1439 \t\t 1447 \t\t 1451 \t\t 1453 \t\t 1459 \t\t 1471 \t\t 1481 \t\t 1483 \t\t 1487 \t\t 1489 \t\t 1493 \t\t 1499 \t\t 1511 \t\t 1523 \t\t 1531 \t\t 1543 \t\t 1549 \t\t 1553 \t\t 1559 \t\t 1567 \t\t 1571 \t\t 1579 \t\t 1583 \t\t 1597 \t\t 1601 \t\t 1607 \t\t 1609 \t\t 1613 \t\t 1619 \t\t 1621 \t\t 1627 \t\t 1637 \t\t 1657 \t\t 1663 \t\t 1667 \t\t 1669 \t\t 1693 \t\t 1697 \t\t 1699 \t\t 1709 \t\t 1721 \t\t 1723 \t\t 1733 \t\t 1741 \t\t 1747 \t\t 1753 \t\t 1759 \t\t 1777 \t\t 1783 \t\t 1787 \t\t 1789 \t\t 1801 \t\t 1811 \t\t 1823 \t\t 1831 \t\t 1847 \t\t 1861 \t\t 1867 \t\t 1871 \t\t 1873 \t\t 1877 \t\t 1879 \t\t 1889 \t\t 1901 \t\t 1907 \t\t 1913 \t\t 1931 \t\t 1933 \t\t 1949 \t\t 1951 \t\t 1973 \t\t 1979 \t\t 1987 \t\t 1993 \t\t 1997 \t\t 1999 \t\t 2003 \t\t 2011 \t\t 2017 \t\t 2027 \t\t 2029 \t\t 2039 \t\t 2053 \t\t 2063 \t\t 2069 \t\t 2081 \t\t 2083 \t\t 2087 \t\t 2089 \t\t 2099 \t\t 2111 \t\t 2113 \t\t 2129 \t\t 2131 \t\t 2137 \t\t 2141 \t\t 2143 \t\t 2153 \t\t 2161 \t\t 2179 \t\t 2203 \t\t 2207 \t\t 2213 \t\t 2221 \t\t 2237 \t\t 2239 \t\t 2243 \t\t 2251 \t\t 2267 \t\t 2269 \t\t 2273 \t\t 2281 \t\t 2287 \t\t 2293 \t\t 2297 \t\t 2309 \t\t 2311 \t\t 2333 \t\t 2339 \t\t 2341 \t\t 2347 \t\t 2351 \t\t 2357 \t\t 2371 \t\t 2377 \t\t 2381 \t\t 2383 \t\t 2389 \t\t 2393 \t\t 2399 \t\t 2411 \t\t 2417 \t\t 2423 \t\t 2437 \t\t 2441 \t\t 2447 \t\t 2459 \t\t 2467 \t\t 2473 \t\t 2477 \t\t 2503 \t\t 2521 \t\t 2531 \t\t 2539 \t\t 2543 \t\t 2549 \t\t 2551 \t\t 2557 \t\t 2579 \t\t 2591 \t\t 2593 \t\t 2609 \t\t 2617 \t\t 2621 \t\t 2633 \t\t 2647 \t\t 2657 \t\t 2659 \t\t 2663 \t\t 2671 \t\t 2677 \t\t 2683 \t\t 2687 \t\t 2689 \t\t 2693 \t\t 2699 \t\t 2707 \t\t 2711 \t\t 2713 \t\t 2719 \t\t 2729 \t\t 2731 \t\t 2741 \t\t 2749 \t\t 2753 \t\t 2767 \t\t 2777 \t\t 2789 \t\t 2791 \t\t 2797 \t\t 2801 \t\t 2803 \t\t 2819 \t\t 2833 \t\t 2837 \t\t 2843 \t\t 2851 \t\t 2857 \t\t 2861 \t\t 2879 \t\t 2887 \t\t 2897 \t\t 2903 \t\t 2909 \t\t 2917 \t\t 2927 \t\t 2939 \t\t 2953 \t\t 2957 \t\t 2963 \t\t 2969 \t\t 2971 \t\t 2999 \t\t 3001 \t\t 3011 \t\t 3019 \t\t 3023 \t\t 3037 \t\t 3041 \t\t 3049 \t\t 3061 \t\t 3067 \t\t 3079 \t\t 3083 \t\t 3089 \t\t 3109 \t\t 3119 \t\t 3121 \t\t 3137 \t\t 3163 \t\t 3167 \t\t 3169 \t\t 3181 \t\t 3187 \t\t 3191 \t\t 3203 \t\t 3209 \t\t 3217 \t\t 3221 \t\t 3229 \t\t 3251 \t\t 3253 \t\t 3257 \t\t 3259 \t\t 3271 \t\t 3299 \t\t 3301 \t\t 3307 \t\t 3313 \t\t 3319 \t\t 3323 \t\t 3329 \t\t 3331 \t\t 3343 \t\t 3347 \t\t 3359 \t\t 3361 \t\t 3371 \t\t 3373 \t\t 3389 \t\t 3391 \t\t 3407 \t\t 3413 \t\t 3433 \t\t 3449 \t\t 3457 \t\t 3461 \t\t 3463 \t\t 3467 \t\t 3469 \t\t 3491 \t\t 3499 \t\t 3511 \t\t 3517 \t\t 3527 \t\t 3529 \t\t 3533 \t\t 3539 \t\t 3541 \t\t 3547 \t\t 3557 \t\t 3559 \t\t 3571 \t\t 3581 \t\t 3583 \t\t 3593 \t\t 3607 \t\t 3613 \t\t 3617 \t\t 3623 \t\t 3631 \t\t 3637 \t\t 3643 \t\t 3659 \t\t 3671 \t\t 3673 \t\t 3677 \t\t 3691 \t\t 3697 \t\t 3701 \t\t 3709 \t\t 3719 \t\t 3727 \t\t 3733 \t\t 3739 \t\t 3761 \t\t 3767 \t\t 3769 \t\t 3779 \t\t 3793 \t\t 3797 \t\t 3803 \t\t 3821 \t\t 3823 \t\t 3833 \t\t 3847 \t\t 3851 \t\t 3853 \t\t 3863 \t\t 3877 \t\t 3881 \t\t 3889 \t\t 3907 \t\t 3911 \t\t 3917 \t\t 3919 \t\t 3923 \t\t 3929 \t\t 3931 \t\t 3943 \t\t 3947 \t\t 3967 \t\t 3989 \t\t 4001 \t\t 4003 \t\t 4007 \t\t 4013 \t\t 4019 \t\t 4021 \t\t 4027 \t\t 4049 \t\t 4051 \t\t 4057 \t\t 4073 \t\t 4079 \t\t 4091 \t\t 4093 \t\t 4099 \t\t 4111 \t\t 4127 \t\t 4129 \t\t 4133 \t\t 4139 \t\t 4153 \t\t 4157 \t\t 4159 \t\t 4177 \t\t 4201 \t\t 4211 \t\t 4217 \t\t 4219 \t\t 4229 \t\t 4231 \t\t 4241 \t\t 4243 \t\t 4253 \t\t 4259 \t\t 4261 \t\t 4271 \t\t 4273 \t\t 4283 \t\t 4289 \t\t 4297 \t\t 4327 \t\t 4337 \t\t 4339 \t\t 4349 \t\t 4357 \t\t 4363 \t\t 4373 \t\t 4391 \t\t 4397 \t\t 4409 \t\t 4421 \t\t 4423 \t\t 4441 \t\t 4447 \t\t 4451 \t\t 4457 \t\t 4463 \t\t 4481 \t\t 4483 \t\t 4493 \t\t 4507 \t\t 4513 \t\t 4517 \t\t 4519 \t\t 4523 \t\t 4547 \t\t 4549 \t\t 4561 \t\t 4567 \t\t 4583 \t\t 4591 \t\t 4597 \t\t 4603 \t\t 4621 \t\t 4637 \t\t 4639 \t\t 4643 \t\t 4649 \t\t 4651 \t\t 4657 \t\t 4663 \t\t 4673 \t\t 4679 \t\t 4691 \t\t 4703 \t\t 4721 \t\t 4723 \t\t 4729 \t\t 4733 \t\t 4751 \t\t 4759 \t\t 4783 \t\t 4787 \t\t 4789 \t\t 4793 \t\t 4799 \t\t 4801 \t\t 4813 \t\t 4817 \t\t 4831 \t\t 4861 \t\t 4871 \t\t 4877 \t\t 4889 \t\t 4903 \t\t 4909 \t\t 4919 \t\t 4931 \t\t 4933 \t\t 4937 \t\t 4943 \t\t 4951 \t\t 4957 \t\t 4967 \t\t 4969 \t\t 4973 \t\t 4987 \t\t 4993 \t\t 4999 \t\t 5003 \t\t 5009 \t\t 5011 \t\t 5021 \t\t 5023 \t\t 5039 \t\t 5051 \t\t 5059 \t\t 5077 \t\t 5081 \t\t 5087 \t\t 5099 \t\t 5101 \t\t 5107 \t\t 5113 \t\t 5119 \t\t 5147 \t\t 5153 \t\t 5167 \t\t 5171 \t\t 5179 \t\t 5189 \t\t 5197 \t\t 5209 \t\t 5227 \t\t 5231 \t\t 5233 \t\t 5237 \t\t 5261 \t\t 5273 \t\t 5279 \t\t 5281 \t\t 5297 \t\t 5303 \t\t 5309 \t\t 5323 \t\t 5333 \t\t 5347 \t\t 5351 \t\t 5381 \t\t 5387 \t\t 5393 \t\t 5399 \t\t 5407 \t\t 5413 \t\t 5417 \t\t 5419 \t\t 5431 \t\t 5437 \t\t 5441 \t\t 5443 \t\t 5449 \t\t 5471 \t\t 5477 \t\t 5479 \t\t 5483 \t\t 5501 \t\t 5503 \t\t 5507 \t\t 5519 \t\t 5521 \t\t 5527 \t\t 5531 \t\t 5557 \t\t 5563 \t\t 5569 \t\t 5573 \t\t 5581 \t\t 5591 \t\t 5623 \t\t 5639 \t\t 5641 \t\t 5647 \t\t 5651 \t\t 5653 \t\t 5657 \t\t 5659 \t\t 5669 \t\t 5683 \t\t 5689 \t\t 5693 \t\t 5701 \t\t 5711 \t\t 5717 \t\t 5737 \t\t 5741 \t\t 5743 \t\t 5749 \t\t 5779 \t\t 5783 \t\t 5791 \t\t 5801 \t\t 5807 \t\t 5813 \t\t 5821 \t\t 5827 \t\t 5839 \t\t 5843 \t\t 5849 \t\t 5851 \t\t 5857 \t\t 5861 \t\t 5867 \t\t 5869 \t\t 5879 \t\t 5881 \t\t 5897 \t\t 5903 \t\t 5923 \t\t 5927 \t\t 5939 \t\t 5953 \t\t 5981 \t\t 5987 \t\t 6007 \t\t 6011 \t\t 6029 \t\t 6037 \t\t 6043 \t\t 6047 \t\t 6053 \t\t 6067 \t\t 6073 \t\t 6079 \t\t 6089 \t\t 6091 \t\t 6101 \t\t 6113 \t\t 6121 \t\t 6131 \t\t 6133 \t\t 6143 \t\t 6151 \t\t 6163 \t\t 6173 \t\t 6197 \t\t 6199 \t\t 6203 \t\t 6211 \t\t 6217 \t\t 6221 \t\t 6229 \t\t 6247 \t\t 6257 \t\t 6263 \t\t 6269 \t\t 6271 \t\t 6277 \t\t 6287 \t\t 6299 \t\t 6301 \t\t 6311 \t\t 6317 \t\t 6323 \t\t 6329 \t\t 6337 \t\t 6343 \t\t 6353 \t\t 6359 \t\t 6361 \t\t 6367 \t\t 6373 \t\t 6379 \t\t 6389 \t\t 6397 \t\t 6421 \t\t 6427 \t\t 6449 \t\t 6451 \t\t 6469 \t\t 6473 \t\t 6481 \t\t 6491 \t\t 6521 \t\t 6529 \t\t 6547 \t\t 6551 \t\t 6553 \t\t 6563 \t\t 6569 \t\t 6571 \t\t 6577 \t\t 6581 \t\t 6599 \t\t 6607 \t\t 6619 \t\t 6637 \t\t 6653 \t\t 6659 \t\t 6661 \t\t 6673 \t\t 6679 \t\t 6689 \t\t 6691 \t\t 6701 \t\t 6703 \t\t 6709 \t\t 6719 \t\t 6733 \t\t 6737 \t\t 6761 \t\t 6763 \t\t 6779 \t\t 6781 \t\t 6791 \t\t 6793 \t\t 6803 \t\t 6823 \t\t 6827 \t\t 6829 \t\t 6833 \t\t 6841 \t\t 6857 \t\t 6863 \t\t 6869 \t\t 6871 \t\t 6883 \t\t 6899 \t\t 6907 \t\t 6911 \t\t 6917 \t\t 6947 \t\t 6949 \t\t 6959 \t\t 6961 \t\t 6967 \t\t 6971 \t\t 6977 \t\t 6983 \t\t 6991 \t\t 6997 \t\t 7001 \t\t 7013 \t\t 7019 \t\t 7027 \t\t 7039 \t\t 7043 \t\t 7057 \t\t 7069 \t\t 7079 \t\t 7103 \t\t 7109 \t\t 7121 \t\t 7127 \t\t 7129 \t\t 7151 \t\t 7159 \t\t 7177 \t\t 7187 \t\t 7193 \t\t 7207 \t\t 7211 \t\t 7213 \t\t 7219 \t\t 7229 \t\t 7237 \t\t 7243 \t\t 7247 \t\t 7253 \t\t 7283 \t\t 7297 \t\t 7307 \t\t 7309 \t\t 7321 \t\t 7331 \t\t 7333 \t\t 7349 \t\t 7351 \t\t 7369 \t\t 7393 \t\t 7411 \t\t 7417 \t\t 7433 \t\t 7451 \t\t 7457 \t\t 7459 \t\t 7477 \t\t 7481 \t\t 7487 \t\t 7489 \t\t 7499 \t\t 7507 \t\t 7517 \t\t 7523 \t\t 7529 \t\t 7537 \t\t 7541 \t\t 7547 \t\t 7549 \t\t 7559 \t\t 7561 \t\t 7573 \t\t 7577 \t\t 7583 \t\t 7589 \t\t 7591 \t\t 7603 \t\t 7607 \t\t 7621 \t\t 7639 \t\t 7643 \t\t 7649 \t\t 7669 \t\t 7673 \t\t 7681 \t\t 7687 \t\t 7691 \t\t 7699 \t\t 7703 \t\t 7717 \t\t 7723 \t\t 7727 \t\t 7741 \t\t 7753 \t\t 7757 \t\t 7759 \t\t 7789 \t\t 7793 \t\t 7817 \t\t 7823 \t\t 7829 \t\t 7841 \t\t 7853 \t\t 7867 \t\t 7873 \t\t 7877 \t\t 7879 \t\t 7883 \t\t 7901 \t\t 7907 \t\t 7919 \t\t 7927 \t\t 7933 \t\t 7937 \t\t 7949 \t\t 7951 \t\t 7963 \t\t 7993 \t\t 8009 \t\t 8011 \t\t 8017 \t\t 8039 \t\t 8053 \t\t 8059 \t\t 8069 \t\t 8081 \t\t 8087 \t\t 8089 \t\t 8093 \t\t 8101 \t\t 8111 \t\t 8117 \t\t 8123 \t\t 8147 \t\t 8161 \t\t 8167 \t\t 8171 \t\t 8179 \t\t 8191 \t\t 8209 \t\t 8219 \t\t 8221 \t\t 8231 \t\t 8233 \t\t 8237 \t\t 8243 \t\t 8263 \t\t 8269 \t\t 8273 \t\t 8287 \t\t 8291 \t\t 8293 \t\t 8297 \t\t 8311 \t\t 8317 \t\t 8329 \t\t 8353 \t\t 8363 \t\t 8369 \t\t 8377 \t\t 8387 \t\t 8389 \t\t 8419 \t\t 8423 \t\t 8429 \t\t 8431 \t\t 8443 \t\t 8447 \t\t 8461 \t\t 8467 \t\t 8501 \t\t 8513 \t\t 8521 \t\t 8527 \t\t 8537 \t\t 8539 \t\t 8543 \t\t 8563 \t\t 8573 \t\t 8581 \t\t 8597 \t\t 8599 \t\t 8609 \t\t 8623 \t\t 8627 \t\t 8629 \t\t 8641 \t\t 8647 \t\t 8663 \t\t 8669 \t\t 8677 \t\t 8681 \t\t 8689 \t\t 8693 \t\t 8699 \t\t 8707 \t\t 8713 \t\t 8719 \t\t 8731 \t\t 8737 \t\t 8741 \t\t 8747 \t\t 8753 \t\t 8761 \t\t 8779 \t\t 8783 \t\t 8803 \t\t 8807 \t\t 8819 \t\t 8821 \t\t 8831 \t\t 8837 \t\t 8839 \t\t 8849 \t\t 8861 \t\t 8863 \t\t 8867 \t\t 8887 \t\t 8893 \t\t 8923 \t\t 8929 \t\t 8933 \t\t 8941 \t\t 8951 \t\t 8963 \t\t 8969 \t\t 8971 \t\t 8999 \t\t 9001 \t\t 9007 \t\t 9011 \t\t 9013 \t\t 9029 \t\t 9041 \t\t 9043 \t\t 9049 \t\t 9059 \t\t 9067 \t\t 9091 \t\t 9103 \t\t 9109 \t\t 9127 \t\t 9133 \t\t 9137 \t\t 9151 \t\t 9157 \t\t 9161 \t\t 9173 \t\t 9181 \t\t 9187 \t\t 9199 \t\t 9203 \t\t 9209 \t\t 9221 \t\t 9227 \t\t 9239 \t\t 9241 \t\t 9257 \t\t 9277 \t\t 9281 \t\t 9283 \t\t 9293 \t\t 9311 \t\t 9319 \t\t 9323 \t\t 9337 \t\t 9341 \t\t 9343 \t\t 9349 \t\t 9371 \t\t 9377 \t\t 9391 \t\t 9397 \t\t 9403 \t\t 9413 \t\t 9419 \t\t 9421 \t\t 9431 \t\t 9433 \t\t 9437 \t\t 9439 \t\t 9461 \t\t 9463 \t\t 9467 \t\t 9473 \t\t 9479 \t\t 9491 \t\t 9497 \t\t 9511 \t\t 9521 \t\t 9533 \t\t 9539 \t\t 9547 \t\t 9551 \t\t 9587 \t\t 9601 \t\t 9613 \t\t 9619 \t\t 9623 \t\t 9629 \t\t 9631 \t\t 9643 \t\t 9649 \t\t 9661 \t\t 9677 \t\t 9679 \t\t 9689 \t\t 9697 \t\t 9719 \t\t 9721 \t\t 9733 \t\t 9739 \t\t 9743 \t\t 9749 \t\t 9767 \t\t 9769 \t\t 9781 \t\t 9787 \t\t 9791 \t\t 9803 \t\t 9811 \t\t 9817 \t\t 9829 \t\t 9833 \t\t 9839 \t\t 9851 \t\t 9857 \t\t 9859 \t\t 9871 \t\t 9883 \t\t 9887 \t\t 9901 \t\t 9907 \t\t 9923 \t\t 9929 \t\t 9931 \t\t 9941 \t\t 9949 \t\t 9967 \t\t 9973 \t"
     ]
    }
   ],
   "source": [
    "def main():\n",
    "    print(\"The prime numbers from 1 to 10,000 are: \")\n",
    "    for i in range(1,10000):\n",
    "        if prime(i) == True:\n",
    "            print(\"\\t\",i,\"\\t\", end=\"\")  \n",
    "\n",
    "\n",
    "def prime(x):\n",
    "    if x <= 1:\n",
    "        return False\n",
    "    for i in range(2, x-1):\n",
    "        if x % i == 0:\n",
    "            return False\n",
    "    return True\n",
    "              \n",
    "main()"
   ]
  },
  {
   "cell_type": "markdown",
   "metadata": {},
   "source": [
    "Task 6: Write a code that prints on screen all the 4-digit Armstrong numbers."
   ]
  },
  {
   "cell_type": "code",
   "execution_count": 15,
   "metadata": {},
   "outputs": [
    {
     "name": "stdout",
     "output_type": "stream",
     "text": [
      "4 digit Armstrong numbers:\n",
      "1634\n",
      "8208\n",
      "9474\n"
     ]
    }
   ],
   "source": [
    "print(\"4 digit Armstrong numbers:\")\n",
    "\n",
    "for i in range(1000,10000):\n",
    "    num = i\n",
    "    # 4th digit\n",
    "    digit4 = num%10\n",
    "    num = num//10\n",
    "    # 3th digit\n",
    "    digit3 = num%10\n",
    "    num = num//10\n",
    "    #2nd digit\n",
    "    digit2 = num%10\n",
    "    num = num//10\n",
    "    # 1st digit\n",
    "    digit1 = num%10\n",
    "    num = num//10\n",
    "\n",
    "    if i == pow(digit1, 4)+pow(digit2, 4)+pow(digit3, 4)+pow(digit4, 4):\n",
    "        print(i)\n",
    "    i+=1"
   ]
  },
  {
   "cell_type": "markdown",
   "metadata": {},
   "source": [
    "Task 7: Write a program that outputs 100 lines, numbered 1 to 100, each with your name on it. The\n",
    "output should look like the output below:"
   ]
  },
  {
   "cell_type": "code",
   "execution_count": 17,
   "metadata": {},
   "outputs": [
    {
     "name": "stdout",
     "output_type": "stream",
     "text": [
      "1 Your name\n",
      "2 Your name\n",
      "3 Your name\n",
      "4 Your name\n",
      "5 Your name\n",
      "6 Your name\n",
      "7 Your name\n",
      "8 Your name\n",
      "9 Your name\n",
      "10 Your name\n",
      "11 Your name\n",
      "12 Your name\n",
      "13 Your name\n",
      "14 Your name\n",
      "15 Your name\n",
      "16 Your name\n",
      "17 Your name\n",
      "18 Your name\n",
      "19 Your name\n",
      "20 Your name\n",
      "21 Your name\n",
      "22 Your name\n",
      "23 Your name\n",
      "24 Your name\n",
      "25 Your name\n",
      "26 Your name\n",
      "27 Your name\n",
      "28 Your name\n",
      "29 Your name\n",
      "30 Your name\n",
      "31 Your name\n",
      "32 Your name\n",
      "33 Your name\n",
      "34 Your name\n",
      "35 Your name\n",
      "36 Your name\n",
      "37 Your name\n",
      "38 Your name\n",
      "39 Your name\n",
      "40 Your name\n",
      "41 Your name\n",
      "42 Your name\n",
      "43 Your name\n",
      "44 Your name\n",
      "45 Your name\n",
      "46 Your name\n",
      "47 Your name\n",
      "48 Your name\n",
      "49 Your name\n",
      "50 Your name\n",
      "51 Your name\n",
      "52 Your name\n",
      "53 Your name\n",
      "54 Your name\n",
      "55 Your name\n",
      "56 Your name\n",
      "57 Your name\n",
      "58 Your name\n",
      "59 Your name\n",
      "60 Your name\n",
      "61 Your name\n",
      "62 Your name\n",
      "63 Your name\n",
      "64 Your name\n",
      "65 Your name\n",
      "66 Your name\n",
      "67 Your name\n",
      "68 Your name\n",
      "69 Your name\n",
      "70 Your name\n",
      "71 Your name\n",
      "72 Your name\n",
      "73 Your name\n",
      "74 Your name\n",
      "75 Your name\n",
      "76 Your name\n",
      "77 Your name\n",
      "78 Your name\n",
      "79 Your name\n",
      "80 Your name\n",
      "81 Your name\n",
      "82 Your name\n",
      "83 Your name\n",
      "84 Your name\n",
      "85 Your name\n",
      "86 Your name\n",
      "87 Your name\n",
      "88 Your name\n",
      "89 Your name\n",
      "90 Your name\n",
      "91 Your name\n",
      "92 Your name\n",
      "93 Your name\n",
      "94 Your name\n",
      "95 Your name\n",
      "96 Your name\n",
      "97 Your name\n",
      "98 Your name\n",
      "99 Your name\n",
      "100 Your name\n"
     ]
    }
   ],
   "source": [
    "i=1\n",
    "while i<101:\n",
    "    print(f\"{i} Your name\")\n",
    "    i+=1"
   ]
  },
  {
   "cell_type": "markdown",
   "metadata": {},
   "source": [
    "Task 8: Write a program that prints out a list of the integers from 1 to 20 and their squares. The\n",
    "output should look like this:"
   ]
  },
  {
   "cell_type": "code",
   "execution_count": 18,
   "metadata": {},
   "outputs": [
    {
     "name": "stdout",
     "output_type": "stream",
     "text": [
      "1 --- 1\n",
      "2 --- 4\n",
      "3 --- 9\n",
      "4 --- 16\n",
      "5 --- 25\n",
      "6 --- 36\n",
      "7 --- 49\n",
      "8 --- 64\n",
      "9 --- 81\n",
      "10 --- 100\n",
      "11 --- 121\n",
      "12 --- 144\n",
      "13 --- 169\n",
      "14 --- 196\n",
      "15 --- 225\n",
      "16 --- 256\n",
      "17 --- 289\n",
      "18 --- 324\n",
      "19 --- 361\n",
      "20 --- 400\n"
     ]
    }
   ],
   "source": [
    "i = 1\n",
    "while i<=20:\n",
    "    print(f\"{i} --- {pow(i,2)}\")\n",
    "    i+=1"
   ]
  },
  {
   "cell_type": "markdown",
   "metadata": {},
   "source": [
    "Task 9: Write a program that uses a for loop to print the numbers 8, 11, 14, 17, 20, . . . , 83, 86, 89."
   ]
  },
  {
   "cell_type": "code",
   "execution_count": 20,
   "metadata": {},
   "outputs": [
    {
     "name": "stdout",
     "output_type": "stream",
     "text": [
      "8\n",
      "9\n",
      "10\n",
      "11\n",
      "12\n",
      "13\n",
      "14\n",
      "15\n",
      "16\n",
      "17\n",
      "18\n",
      "19\n",
      "20\n",
      "21\n",
      "22\n",
      "23\n",
      "24\n",
      "25\n",
      "26\n",
      "27\n",
      "28\n",
      "29\n",
      "30\n",
      "31\n",
      "32\n",
      "33\n",
      "34\n",
      "35\n",
      "36\n",
      "37\n",
      "38\n",
      "39\n",
      "40\n",
      "41\n",
      "42\n",
      "43\n",
      "44\n",
      "45\n",
      "46\n",
      "47\n",
      "48\n",
      "49\n",
      "50\n",
      "51\n",
      "52\n",
      "53\n",
      "54\n",
      "55\n",
      "56\n",
      "57\n",
      "58\n",
      "59\n",
      "60\n",
      "61\n",
      "62\n",
      "63\n",
      "64\n",
      "65\n",
      "66\n",
      "67\n",
      "68\n",
      "69\n",
      "70\n",
      "71\n",
      "72\n",
      "73\n",
      "74\n",
      "75\n",
      "76\n",
      "77\n",
      "78\n",
      "79\n",
      "80\n",
      "81\n",
      "82\n",
      "83\n",
      "84\n",
      "85\n",
      "86\n",
      "87\n",
      "88\n",
      "89\n"
     ]
    }
   ],
   "source": [
    "i = 5\n",
    "while i<=86:\n",
    "    print(i+3)\n",
    "    i+=1"
   ]
  },
  {
   "cell_type": "markdown",
   "metadata": {},
   "source": [
    "Task 10: Write a program that asks the user for their name and how many times to print it. The\n",
    "program should print out the user’s name the specified number of times"
   ]
  },
  {
   "cell_type": "code",
   "execution_count": 21,
   "metadata": {},
   "outputs": [
    {
     "name": "stdout",
     "output_type": "stream",
     "text": [
      "Aftab Nafees\n",
      "Aftab Nafees\n",
      "Aftab Nafees\n",
      "Aftab Nafees\n",
      "Aftab Nafees\n"
     ]
    }
   ],
   "source": [
    "name = input(\"Your name: \")\n",
    "times = int(input(\"How many times you want to print: \"))\n",
    "i=0\n",
    "while i < times:\n",
    "    print(name)\n",
    "    i+=1"
   ]
  },
  {
   "cell_type": "markdown",
   "metadata": {},
   "source": [
    "Task 11: Use a for loop to print a box like the one below. Allow the user to specify how wide and\n",
    "how high the box should be."
   ]
  },
  {
   "cell_type": "code",
   "execution_count": 25,
   "metadata": {},
   "outputs": [
    {
     "name": "stdout",
     "output_type": "stream",
     "text": [
      "***************\n",
      "***************\n",
      "***************\n",
      "***************\n"
     ]
    }
   ],
   "source": [
    "column = int(input(\"Enter the length: \"))\n",
    "row = int(input(\"Enter the width: \"))\n",
    "i=0\n",
    "while i<column:\n",
    "    j=0\n",
    "    while j<row:\n",
    "        print(\"*\",end=\"\")\n",
    "        j+=1\n",
    "    print()\n",
    "    i+=1"
   ]
  },
  {
   "cell_type": "markdown",
   "metadata": {},
   "source": [
    "Task 12: Use a for loop to print a triangle like the one below. Allow the user to specify how high the\n",
    "triangle should be"
   ]
  },
  {
   "cell_type": "code",
   "execution_count": 37,
   "metadata": {},
   "outputs": [
    {
     "name": "stdout",
     "output_type": "stream",
     "text": [
      "*\n",
      "**\n",
      "***\n",
      "****\n"
     ]
    }
   ],
   "source": [
    "height = int(input(\"Enter the height: \"))\n",
    "i=0\n",
    "while i<height:\n",
    "    j=-1\n",
    "    while j<i:\n",
    "        print(\"*\",end=\"\")\n",
    "        j+=1\n",
    "    print()\n",
    "    i+=1"
   ]
  },
  {
   "cell_type": "markdown",
   "metadata": {},
   "source": [
    "Task 13: Use for loops to print a diamond like the one below. Allow the user to specify how high the\n",
    "diamond should be."
   ]
  },
  {
   "cell_type": "code",
   "execution_count": 7,
   "metadata": {},
   "outputs": [
    {
     "name": "stdout",
     "output_type": "stream",
     "text": [
      "    *\n",
      "   ***\n",
      "  *****\n",
      " *******\n",
      "*********\n",
      " *******\n",
      "  *****\n",
      "   ***\n",
      "    *\n"
     ]
    }
   ],
   "source": [
    "height = int(input(\"Enter the height: \"))\n",
    "\n",
    "for i in range(height):\n",
    "    for j in range(height-i-1):\n",
    "        print(\" \", end=\"\")\n",
    "    for k in range(2 * i + 1):\n",
    "        print(\"*\", end=\"\")\n",
    "    print()\n",
    "\n",
    "for i in range(height - 2, -1, -1):\n",
    "    for j in range(height - i - 1):\n",
    "        print(\" \", end=\"\")\n",
    "    for k in range(2 * i + 1):\n",
    "        print(\"*\", end=\"\")\n",
    "    print()"
   ]
  },
  {
   "cell_type": "markdown",
   "metadata": {},
   "source": [
    " Task 14: Write a program that prints a giant letter A like the one below. Allow the user to specify\n",
    " how large the letter should be."
   ]
  },
  {
   "cell_type": "code",
   "execution_count": null,
   "metadata": {},
   "outputs": [],
   "source": []
  }
 ],
 "metadata": {
  "kernelspec": {
   "display_name": "Python 3",
   "language": "python",
   "name": "python3"
  },
  "language_info": {
   "codemirror_mode": {
    "name": "ipython",
    "version": 3
   },
   "file_extension": ".py",
   "mimetype": "text/x-python",
   "name": "python",
   "nbconvert_exporter": "python",
   "pygments_lexer": "ipython3",
   "version": "3.12.0"
  }
 },
 "nbformat": 4,
 "nbformat_minor": 2
}
