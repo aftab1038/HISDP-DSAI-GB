{
 "cells": [
  {
   "cell_type": "markdown",
   "metadata": {},
   "source": [
    "Lists :\n",
    "1. Create a list of 5 names and print it.\n",
    "2. Add a new name to the list and print the updated list.\n",
    "3. Remove the first name from the list and print the updated list.\n",
    "4. Sort the list in alphabetical order and print it.\n",
    "5. Find the index of a specific name in the list.\n"
   ]
  },
  {
   "cell_type": "code",
   "execution_count": 13,
   "metadata": {},
   "outputs": [
    {
     "name": "stdout",
     "output_type": "stream",
     "text": [
      "1. Creating and Printing the List : \n",
      "\t['Aftab', 'Arjuman', 'Ali', 'Muhammad', 'Babar']\n",
      "2. Printing the Updated List after adding new name: \n",
      "\t['Aftab', 'Arjuman', 'Ali', 'Muhammad', 'Babar', 'Nadeem']\n",
      "3. Printing the Updated List after removing first name : \n",
      "\t['Arjuman', 'Ali', 'Muhammad', 'Babar', 'Nadeem']\n",
      "4. Printing the Sorted List in alphabetical order : \n",
      "\t['Ali', 'Arjuman', 'Babar', 'Muhammad', 'Nadeem']\n",
      "5. Printing the index of name \"Babar\" : \n",
      "\t2\n"
     ]
    }
   ],
   "source": [
    "# 1. Create a list of 5 names and print it.\n",
    "name = [\"Aftab\", \"Arjuman\", \"Ali\", \"Muhammad\", \"Babar\"]\n",
    "print(f\"1. Creating and Printing the List : \\n\\t{name}\")\n",
    "# 2. Add a new name to the list and print the updated list.\n",
    "name.append(\"Nadeem\")\n",
    "print(f\"2. Printing the Updated List after adding new name: \\n\\t{name}\")\n",
    "# 3. Remove the first name from the list and print the updated list.\n",
    "name.remove(\"Aftab\")\n",
    "print(f\"3. Printing the Updated List after removing first name : \\n\\t{name}\")\n",
    "# 4. Sort the list in alphabetical order and print it.\n",
    "name.sort()\n",
    "print(f\"4. Printing the Sorted List in alphabetical order : \\n\\t{name}\")\n",
    "#\n",
    "print(f\"5. Printing the index of name \\\"Babar\\\" : \\n\\t{name.index(\"Babar\")}\")\n",
    "\n",
    "\n"
   ]
  },
  {
   "cell_type": "markdown",
   "metadata": {},
   "source": [
    "Dictionaries :\n",
    "1. Create a dictionary with 3 key-value pairs and print it.\n",
    "2. Add a new key-value pair to the dictionary and print the updated dictionary.\n",
    "3. Remove a key-value pair from the dictionary and print the updated dictionary.\n",
    "4. Access the value of a specific key in the dictionary.\n",
    "5. Check if a key exists in the dictionary.\n"
   ]
  },
  {
   "cell_type": "code",
   "execution_count": 14,
   "metadata": {},
   "outputs": [
    {
     "name": "stdout",
     "output_type": "stream",
     "text": [
      "1. Creating and Printing a Dictyionary : \n",
      "\t{'Ali': '03127463949', 'Sadam': '03555832932', 'Faizan': '03496236310'}\n",
      "2. Printing Updated Dictyionary after adding new key-value : \n",
      "\t{'Ali': '03127463949', 'Sadam': '03555832932', 'Faizan': '03496236310', 'Hassan': '03559123810'}\n",
      "3. Printing updated Dictyionary after removing key-value : \n",
      "\t{'Ali': '03127463949', 'Sadam': '03555832932', 'Hassan': '03559123810'}\n",
      "4. Access the Value(number) using key(\"Ali\") : \n",
      "\t03127463949\n",
      "5. Check if a key exists in the dictionary : \n",
      "\tSadam exist in dictionary\n"
     ]
    }
   ],
   "source": [
    "# 1. Create a dictionary with 3 key-value pairs and print it.\n",
    "people  = {\"Ali\" : \"03127463949\",\n",
    "            \"Sadam\" : \"03555832932\",\n",
    "            \"Faizan\" :\"03496236310\" }\n",
    "print(f\"1. Creating and Printing a Dictyionary : \\n\\t{people}\")\n",
    "# 2. Add a new key-value pair to the dictionary and print the updated dictionary.\n",
    "people[\"Hassan\"] = \"03559123810\"\n",
    "print(f\"2. Printing Updated Dictyionary after adding new key-value : \\n\\t{people}\")\n",
    "# 3. Remove a key-value pair from the dictionary and print the updated dictionary.\n",
    "people.pop(\"Faizan\")\n",
    "print(f\"3. Printing updated Dictyionary after removing key-value : \\n\\t{people}\")\n",
    "# 4. Access the value of a specific key in the dictionary.\n",
    "number = people.get(\"Ali\")\n",
    "print(f\"4. Access the Value(number) using key(\\\"Ali\\\") : \\n\\t{number}\")\n",
    "# 5. Check if a key exists in the dictionary.\n",
    "key = \"Sadam\"\n",
    "if key in people:\n",
    "    print(f\"5. Check if a key exists in the dictionary : \\n\\t{key} exist in dictionary\")\n",
    "else:\n",
    "    print(f\"5. Check if a key exists in the dictionary : \\n\\t{key} does not exist in dictionary\")\n"
   ]
  },
  {
   "cell_type": "markdown",
   "metadata": {},
   "source": [
    "Tuples :\n",
    "1. Create a tuple of 3 numbers and print it.\n",
    "2. Access the first element of the tuple.\n",
    "3. Create a tuple from a list.\n",
    "4. Check if an element exists in the tuple.\n",
    "5. Use a tuple as a key in a dictionary.\n"
   ]
  },
  {
   "cell_type": "code",
   "execution_count": 6,
   "metadata": {},
   "outputs": [
    {
     "name": "stdout",
     "output_type": "stream",
     "text": [
      "1. Create a tuple of 3 numbers and print it : \n",
      "\t(3.14, 9.8, 100)\n",
      "2. Access the first element of the tuple : \n",
      "\t3.14\n",
      "3. Create a tuple from a list : \n",
      "\tThe tuple is: (1, 2, 3, 4)\n",
      "4. Check if an element exists in the tuple : \n",
      "\t3.14 exist in Tuple\n",
      "5. Use a tuple as a key in a dictionary : \n",
      "\tDictionary : {(1, 2): 'A', (3, 4): 'B'}\n",
      "\tkey(tuple): (1,2)\tValue: A\n"
     ]
    }
   ],
   "source": [
    "# 1. Create a tuple of 3 numbers and print it.\n",
    "constants = (3.14, 9.8, 100) \n",
    "print(f\"1. Create a tuple of 3 numbers and print it : \\n\\t{constants}\")\n",
    "# 2. Access the first element of the tuple.\n",
    "print(f\"2. Access the first element of the tuple : \\n\\t{constants[0]}\")\n",
    "# 3. Create a tuple from a list.\n",
    "my_list = [1, 2, 3, 4]\n",
    "my_tuple = tuple(my_list)\n",
    "print(\"3. Create a tuple from a list : \\n\\tThe tuple is:\", my_tuple)\n",
    "# 4. Check if an element exists in the tuple.\n",
    "element = 3.14\n",
    "if element in constants:\n",
    "    print(f\"4. Check if an element exists in the tuple : \\n\\t{element} exist in Tuple\")\n",
    "else:\n",
    "    print(f\"4. Check if an element exists in the tuple : \\n\\t{element} does not exist in Tuple\")\n",
    "# 5. Use a tuple as a key in a dictionary.`\n",
    "points = {(1, 2): \"A\", (3, 4): \"B\"}\n",
    "print(f\"5. Use a tuple as a key in a dictionary : \\n\\tDictionary : {points}\\n\\tkey(tuple): (1,2)\\tValue: {points[(1, 2)]}\")\n"
   ]
  },
  {
   "cell_type": "markdown",
   "metadata": {},
   "source": [
    "Sets :\n",
    "1. Create a set of 5 numbers and print it.\n",
    "2. Add a new number to the set and print the updated set.\n",
    "3. Remove a number from the set and print the updated set.\n",
    "4. Find the intersection of two sets.\n",
    "5. Check if an element exists in the set\n"
   ]
  },
  {
   "cell_type": "code",
   "execution_count": 2,
   "metadata": {},
   "outputs": [
    {
     "name": "stdout",
     "output_type": "stream",
     "text": [
      "1. Create a set of 5 numbers and print it :\n",
      "\t{16, 18, 20, 12, 14}\n",
      "2. Add a new number to the set and print the updated set :\n",
      "\t{16, 18, 20, 40, 12, 14}\n",
      "3. Remove a number from the set and print the updated set : \n",
      "\t{18, 20, 40, 12, 14}\n",
      "4. Find the intersection of two sets : \n",
      "\t{12, 14}\n",
      "5. Check if an element exists in the set : \n",
      "\t18 exist in {18, 20, 40, 12, 14}\n"
     ]
    }
   ],
   "source": [
    "# 1. Create a set of 5 numbers and print it.\n",
    "numset = {12,14,16,18,20}\n",
    "print(f\"1. Create a set of 5 numbers and print it :\\n\\t{numset}\")\n",
    "# 2. Add a new number to the set and print the updated set.\n",
    "numset.add(40)\n",
    "print(f\"2. Add a new number to the set and print the updated set :\\n\\t{numset}\")\n",
    "# 3. Remove a number from the set and print the updated set.\n",
    "numset.remove(16)\n",
    "print(f\"3. Remove a number from the set and print the updated set : \\n\\t{numset}\")\n",
    "# 4. Find the intersection of two sets.\n",
    "numset2 = {11,12,13,14,15}\n",
    "print(f\"4. Find the intersection of two sets : \\n\\t{numset.intersection(numset2)}\")\n",
    "# 5. Check if an element exists in the set.\n",
    "if 18 in numset:\n",
    "    print(f\"5. Check if an element exists in the set : \\n\\t18 exist in {numset}\")\n",
    "else:\n",
    "    print(f\"5. Check if an element exists in the set : \\n\\t18 does not exist in {numset}\")\n"
   ]
  },
  {
   "cell_type": "markdown",
   "metadata": {},
   "source": [
    "General :\n",
    "1. Print \"Hello, World!\" to the console.\n",
    "2. Ask the user for their name and print it.\n",
    "3. Calculate the sum of two numbers.\n",
    "4. Use a for loop to print numbers from 1 to 10.\n",
    "5. Use an if statement to check if a number is even or odd.\n"
   ]
  },
  {
   "cell_type": "code",
   "execution_count": 1,
   "metadata": {},
   "outputs": [
    {
     "name": "stdout",
     "output_type": "stream",
     "text": [
      "1. Print 'Hello, World!' to the console: \n",
      "\tHello, World!\n",
      "2. Ask the user for their name and print it : \n",
      "\tName : Aftab Nafees\n",
      "3. Calculate the sum of two numbers : \n",
      "\tThe sum of 5 and 6 is 11\n",
      "4. Use a for loop to print numbers from 1 to 10 : \n",
      "\t 1\n",
      "\t 2\n",
      "\t 3\n",
      "\t 4\n",
      "\t 5\n",
      "\t 6\n",
      "\t 7\n",
      "\t 8\n",
      "\t 9\n",
      "\t 10\n",
      "5. Use an if statement to check if a number is even or odd :\n",
      "\t5 is Odd Number\n"
     ]
    }
   ],
   "source": [
    "# 1. Print \"Hello, World!\" to the console.\n",
    "print(\"1. Print 'Hello, World!' to the console: \\n\\tHello, World!\")\n",
    "# 2. Ask the user for their name and print it.\n",
    "name = input(\"Your Name :\")\n",
    "print(f\"2. Ask the user for their name and print it : \\n\\tName : {name}\")\n",
    "# 3. Calculate the sum of two numbers.\n",
    "print(f\"3. Calculate the sum of two numbers : \\n\\tThe sum of 5 and 6 is {5+6}\")\n",
    "# 4. Use a for loop to print numbers from 1 to 10.\n",
    "print(\"4. Use a for loop to print numbers from 1 to 10 : \")\n",
    "for _ in range(1, 11):\n",
    "    print(\"\\t\",_)\n",
    "# 5. Use an if statement to check if a number is even or odd.\n",
    "print(\"5. Use an if statement to check if a number is even or odd :\")\n",
    "num = int(input(\"Enter a number :\"))\n",
    "if num%2 == 0:\n",
    "    print(f\"\\t{num} is Even Number\")\n",
    "else:\n",
    "    print(f\"\\t{num} is Odd Number\")\n"
   ]
  }
 ],
 "metadata": {
  "kernelspec": {
   "display_name": "Python 3",
   "language": "python",
   "name": "python3"
  },
  "language_info": {
   "codemirror_mode": {
    "name": "ipython",
    "version": 3
   },
   "file_extension": ".py",
   "mimetype": "text/x-python",
   "name": "python",
   "nbconvert_exporter": "python",
   "pygments_lexer": "ipython3",
   "version": "3.12.0"
  }
 },
 "nbformat": 4,
 "nbformat_minor": 2
}
