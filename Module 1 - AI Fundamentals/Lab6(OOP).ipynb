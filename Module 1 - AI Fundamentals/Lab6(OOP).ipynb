{
 "cells": [
  {
   "cell_type": "markdown",
   "metadata": {},
   "source": [
    "Task 1:\tWrite a Python class called Rectangle that has attributes length and width. Implement methods to calculate the area and perimeter of the rectangle."
   ]
  },
  {
   "cell_type": "code",
   "execution_count": 1,
   "metadata": {},
   "outputs": [
    {
     "name": "stdout",
     "output_type": "stream",
     "text": [
      "Area of Rectangle: 80\n",
      "Perimeter of Rectangle: 36\n"
     ]
    }
   ],
   "source": [
    "class Rectangle :\n",
    "    def __init__(self, length, width):\n",
    "        self.length = length\n",
    "        self.width = width\n",
    "    \n",
    "    def area(self):\n",
    "        return self.length*self.width\n",
    "    \n",
    "    def perimeter(self):\n",
    "        return (2*self.length) + (2*self.width)\n",
    "    \n",
    "rectangle = Rectangle(10,8)\n",
    "print(f\"Area of Rectangle: {rectangle.area()}\")\n",
    "print(f\"Perimeter of Rectangle: {rectangle.perimeter()}\")"
   ]
  },
  {
   "cell_type": "markdown",
   "metadata": {},
   "source": [
    "Task 2: Create a class hierarchy in Python consisting of a base class called Animal, and derived classes Dog, Cat, and Bird. Each derived class should have its unique method. Instantiate objects of each class and demonstrate polymorphism by calling a common method on each object.\n"
   ]
  },
  {
   "cell_type": "code",
   "execution_count": 1,
   "metadata": {},
   "outputs": [
    {
     "name": "stdout",
     "output_type": "stream",
     "text": [
      "Animal is making a sound.\n",
      "Dog is barking.\n",
      "Cat is meowing.\n",
      "Bird is Flying \n"
     ]
    }
   ],
   "source": [
    "class Animal:\n",
    "\tdef make_sound(self):\n",
    "\t\tprint(\"Animal is making a sound.\")\n",
    "\n",
    "class Dog(Animal):\n",
    "\tdef make_sound(self):\n",
    "\t\tprint(\"Dog is barking.\")\n",
    "\n",
    "class Cat(Animal):\n",
    "\tdef make_sound(self):\n",
    "\t\tprint(\"Cat is meowing.\")\n",
    "\t\t\n",
    "class Bird(Animal):\n",
    "\tdef make_sound(self):\n",
    "\t\tprint(\"Bird is Flying \")\n",
    "\n",
    "\n",
    "animal = Animal()\n",
    "dog = Dog()\n",
    "cat = Cat()\n",
    "bird = Bird()\n",
    "\n",
    "animal.make_sound() \n",
    "dog.make_sound() \t\n",
    "cat.make_sound() \t\n",
    "bird.make_sound() \t\n",
    "\n"
   ]
  },
  {
   "cell_type": "markdown",
   "metadata": {},
   "source": [
    "Task 3: Write a Python class called Shape with a method area() that returns the area of the shape. Create two subclasses, Rectangle and Circle, each overriding the area() method to calculate the area of the specific shape. Instantiate objects of each class and display their areas."
   ]
  },
  {
   "cell_type": "code",
   "execution_count": 2,
   "metadata": {},
   "outputs": [
    {
     "name": "stdout",
     "output_type": "stream",
     "text": [
      "Area of the rectangle: 15\n",
      "Area of the circle: 50.26548245743669\n"
     ]
    }
   ],
   "source": [
    "import math\n",
    "\n",
    "class Shape:\n",
    "    def area(self):\n",
    "        return 0\n",
    "\n",
    "class Rectangle(Shape):\n",
    "    def __init__(self, length, width):\n",
    "        self.length = length\n",
    "        self.width = width\n",
    "\n",
    "    def area(self):\n",
    "        return self.length * self.width\n",
    "\n",
    "class Circle(Shape):\n",
    "    def __init__(self, radius):\n",
    "        self.radius = radius\n",
    "\n",
    "    def area(self):\n",
    "        return math.pi * (self.radius ** 2)\n",
    "\n",
    "# Instantiate objects and display their areas\n",
    "rectangle = Rectangle(5, 3)\n",
    "circle = Circle(4)\n",
    "\n",
    "print(f\"Area of the rectangle: {rectangle.area()}\")\n",
    "print(f\"Area of the circle: {circle.area()}\")\n"
   ]
  }
 ],
 "metadata": {
  "kernelspec": {
   "display_name": "Python 3",
   "language": "python",
   "name": "python3"
  },
  "language_info": {
   "codemirror_mode": {
    "name": "ipython",
    "version": 3
   },
   "file_extension": ".py",
   "mimetype": "text/x-python",
   "name": "python",
   "nbconvert_exporter": "python",
   "pygments_lexer": "ipython3",
   "version": "3.12.0"
  }
 },
 "nbformat": 4,
 "nbformat_minor": 2
}
