{
 "cells": [
  {
   "cell_type": "markdown",
   "metadata": {},
   "source": [
    "Which of the following expressions results in SyntaxErrors? Identify the syntax SyntaxErrors and type the reason of error along with the correct code by mentioning its sequence number.\n",
    "````\n",
    "n.\t6 * -----------8\n",
    "o.\t8 = people\n",
    "p.\t((((4 ** 3))))\n",
    "q.\t(-(-(-(-5))))\n",
    "r.\t4 += 7 / 2\n"
   ]
  },
  {
   "cell_type": "code",
   "execution_count": 3,
   "metadata": {},
   "outputs": [
    {
     "name": "stdout",
     "output_type": "stream",
     "text": [
      "48\n",
      "64\n",
      "5\n"
     ]
    }
   ],
   "source": [
    "print(6* ------------8)\n",
    "print(((((4 ** 3)))))\n",
    "print((-(-(-(-5)))))"
   ]
  },
  {
   "cell_type": "code",
   "execution_count": 1,
   "metadata": {},
   "outputs": [
    {
     "ename": "SyntaxError",
     "evalue": "cannot assign to literal here. Maybe you meant '==' instead of '='? (1249843227.py, line 1)",
     "output_type": "error",
     "traceback": [
      "\u001b[1;36m  Cell \u001b[1;32mIn[1], line 1\u001b[1;36m\u001b[0m\n\u001b[1;33m    8 = people\u001b[0m\n\u001b[1;37m    ^\u001b[0m\n\u001b[1;31mSyntaxError\u001b[0m\u001b[1;31m:\u001b[0m cannot assign to literal here. Maybe you meant '==' instead of '='?\n"
     ]
    }
   ],
   "source": [
    "8 = people                          \n",
    "## Correct form : \n",
    "people = 8"
   ]
  },
  {
   "cell_type": "code",
   "execution_count": 2,
   "metadata": {},
   "outputs": [
    {
     "ename": "SyntaxError",
     "evalue": "invalid syntax (58857358.py, line 1)",
     "output_type": "error",
     "traceback": [
      "\u001b[1;36m  Cell \u001b[1;32mIn[2], line 1\u001b[1;36m\u001b[0m\n\u001b[1;33m    print(4 += 7 / 2)\u001b[0m\n\u001b[1;37m            ^\u001b[0m\n\u001b[1;31mSyntaxError\u001b[0m\u001b[1;31m:\u001b[0m invalid syntax\n"
     ]
    }
   ],
   "source": [
    "print(4 += 7 / 2)                   \n",
    "## Correct form : \n",
    "print(4 + 7 / 2)"
   ]
  },
  {
   "cell_type": "markdown",
   "metadata": {},
   "source": [
    "Using only the techniques you have learned so far, write a program that calculates the square and cube of the numbers from 0 to 10 and uses tabs to print the following table of values:"
   ]
  },
  {
   "cell_type": "code",
   "execution_count": 12,
   "metadata": {},
   "outputs": [
    {
     "name": "stdout",
     "output_type": "stream",
     "text": [
      "Number\tSquare\tCube\n",
      "0\t0\t0\n",
      "1\t1\t1\n",
      "2\t4\t8\n",
      "3\t9\t27\n",
      "4\t16\t64\n",
      "5\t25\t125\n",
      "6\t36\t216\n",
      "7\t49\t343\n",
      "8\t64\t512\n",
      "9\t81\t729\n",
      "10\t100\t1000\n"
     ]
    }
   ],
   "source": [
    "print(\"Number\\tSquare\\tCube\")\n",
    "print(0,0*0,0*0*0, sep=\"\\t\")\n",
    "print(1,1*1,1*1*1, sep=\"\\t\")\n",
    "print(2,2*2,2*2*2, sep=\"\\t\")\n",
    "print(3,3*3,3*3*3, sep=\"\\t\")\n",
    "print(4,4*4,4*4*4, sep=\"\\t\")\n",
    "print(5,5*5,5*5*5, sep=\"\\t\")\n",
    "print(6,6*6,6*6*6, sep=\"\\t\")\n",
    "print(7,7*7,7*7*7, sep=\"\\t\")\n",
    "print(8,8*8,8*8*8, sep=\"\\t\")\n",
    "print(9,9*9,9*9*9, sep=\"\\t\")\n",
    "print(10,10*10,10*10*10, sep=\"\\t\")"
   ]
  },
  {
   "cell_type": "markdown",
   "metadata": {},
   "source": [
    "Write a program that assigns values to two variables and then swap their values. "
   ]
  },
  {
   "cell_type": "code",
   "execution_count": 22,
   "metadata": {},
   "outputs": [
    {
     "name": "stdout",
     "output_type": "stream",
     "text": [
      "Before :\n",
      "x = 27\n",
      "y = 56\n",
      "After :\n",
      "x = 56\n",
      "y = 27\n"
     ]
    }
   ],
   "source": [
    "print(\"Before :\")\n",
    "x = 27\n",
    "y = 56\n",
    "print(\"x =\",x)\n",
    "print(\"y =\",y)\n",
    "# Swapping\n",
    "print(\"After :\")\n",
    "x=x+y\n",
    "y=x-y\n",
    "x=x-y\n",
    "print(\"x =\",x)\n",
    "print(\"y =\",y)\n"
   ]
  },
  {
   "cell_type": "markdown",
   "metadata": {},
   "source": [
    "Write a program that inputs one five-digit number, generates its reverse and displays the reverse on screen.(Hint: Make use of the arithmetic operators modulus (%) and floor (// )"
   ]
  },
  {
   "cell_type": "code",
   "execution_count": 47,
   "metadata": {},
   "outputs": [
    {
     "name": "stdout",
     "output_type": "stream",
     "text": [
      "Number : 12345\n",
      "Reverse : 54321\n"
     ]
    }
   ],
   "source": [
    "num = int(input(\"Enter a 5-digit number :\"))\n",
    "print(\"Number :\",num)\n",
    "# 5th digit\n",
    "digit5= num%10\n",
    "num = num//10\n",
    "# 4th digit\n",
    "digit4 = num%10\n",
    "num = num//10\n",
    "# 3th digit\n",
    "digit3 = num%10\n",
    "num = num//10\n",
    "#2nd digit\n",
    "digit2 = num%10\n",
    "num = num//10\n",
    "# 1st digit\n",
    "digit1 = num%10\n",
    "num = num//10\n",
    "\n",
    "# Converting digit to str and catientatong in reversed order and converting back to int  \n",
    "reverseNum = int(str(digit5)+str(digit4)+str(digit3)+str(digit2)+str(digit1))\n",
    "print(\"Reverse :\",reverseNum)\n"
   ]
  },
  {
   "attachments": {
    "image.png": {
     "image/png": "[encoded data removed]"
    }
   },
   "cell_type": "markdown",
   "metadata": {},
   "source": [
    "Using whatever we have learned so far, write a program that prints a box, an oval, an arrow and a diamond as follows:\n",
    "![image.png](attachment:image.png)"
   ]
  },
  {
   "cell_type": "code",
   "execution_count": 33,
   "metadata": {},
   "outputs": [
    {
     "name": "stdout",
     "output_type": "stream",
     "text": [
      "*********\t   ***   \t  *  \t    *\n",
      "*       *\t *     * \t *** \t   * *\n",
      "*       *\t*       *\t*****\t  *   *\n",
      "*       *\t*       *\t  *  \t *     *\n",
      "*       *\t*       *\t  *  \t*       *\n",
      "*       *\t*       *\t  *  \t *     *\n",
      "*       *\t*       *\t  *  \t  *   *\n",
      "*       *\t *     * \t  *  \t   * *\n",
      "*********\t   ***   \t  *  \t    *\n"
     ]
    }
   ],
   "source": [
    "print(\"*********\\t   ***   \\t  *  \\t    *\")\n",
    "print(\"*       *\\t *     * \\t *** \\t   * *\")\n",
    "print(\"*       *\\t*       *\\t*****\\t  *   *\")\n",
    "print(\"*       *\\t*       *\\t  *  \\t *     *\")\n",
    "print(\"*       *\\t*       *\\t  *  \\t*       *\")\n",
    "print(\"*       *\\t*       *\\t  *  \\t *     *\")\n",
    "print(\"*       *\\t*       *\\t  *  \\t  *   *\")\n",
    "print(\"*       *\\t *     * \\t  *  \\t   * *\")\n",
    "print(\"*********\\t   ***   \\t  *  \\t    *\")"
   ]
  },
  {
   "cell_type": "markdown",
   "metadata": {},
   "source": [
    "Write a program that reads three nonzero integers and determines and prints if they could be the sides of a right triangle. (Hint : use Pythagoras theorem you learned in mathematics during FSC or matric , try different combinations of the same integers )"
   ]
  },
  {
   "cell_type": "code",
   "execution_count": 48,
   "metadata": {},
   "outputs": [
    {
     "name": "stdout",
     "output_type": "stream",
     "text": [
      "Enter three integers : 2 3 4\n",
      "The three integers are not the sides of a right triangle\n"
     ]
    }
   ],
   "source": [
    "print(\"Enter three integers : \",end=\"\")\n",
    "side1 = int(input(\"Integer 1 : \"))\n",
    "side2 = int(input(\"Integer 2 : \"))\n",
    "side3 = int(input(\"Integer 3 : \"))\n",
    "print(side1,side2,side3)\n",
    "\n",
    "# if side1 is hyptones\n",
    "if side1 > side2:\n",
    "    if side1 > side3:\n",
    "        if pow(side1, 2) == pow(side2, 2) + pow(side3, 2):\n",
    "            print(\"The three integers are the sides of a right triangle\")\n",
    "        else:\n",
    "            print(\"The three integers are not the sides of a right triangle\")\n",
    "\n",
    "# if side2 is hyptones\n",
    "if side2 > side1:\n",
    "    if side2 > side3:\n",
    "        if pow(side2, 2) == pow(side1, 2) + pow(side3, 2):\n",
    "            print(\"The three integers are the sides of a right triangle\")\n",
    "        else:\n",
    "            print(\"The three integers are not the sides of a right triangle\")\n",
    "\n",
    "# if side3 is hyptones\n",
    "if side3 > side1:\n",
    "    if side3 > side2:\n",
    "        if pow(side3, 2) == pow(side1, 2) + pow(side2, 2):\n",
    "            print(\"The three integers are the sides of a right triangle\")\n",
    "        else:\n",
    "            print(\"The three integers are not the sides of a right triangle\")\n"
   ]
  },
  {
   "cell_type": "markdown",
   "metadata": {},
   "source": [
    "Write a program to prompt for a score between 0.0 and 1.0. If the score is out of range, print an error message. If the score is between 0.0 and 1.0, print a grade using the following table:\n",
    "\n",
    "````\n",
    "        Score    Grade        \n",
    "        >=9.0    A            \n",
    "        >=8.0    B            \n",
    "        >=7.0    C            \n",
    "        >=6.0    D            \n",
    "        <6.0     F            "
   ]
  },
  {
   "cell_type": "code",
   "execution_count": 14,
   "metadata": {},
   "outputs": [
    {
     "name": "stdout",
     "output_type": "stream",
     "text": [
      "Score : 0.65\n",
      "D\n"
     ]
    }
   ],
   "source": [
    "try:\n",
    "    score = float(input(\"Enter score : \"))\n",
    "    print(\"Score :\", score)\n",
    "    if score <=1.0 and score >= 0.0:\n",
    "        if score >= 0.9:\n",
    "            print(\"A\")\n",
    "        elif score >= 0.8:\n",
    "            print(\"B\")\n",
    "        elif score >= 0.7:\n",
    "            print(\"C\")\n",
    "        elif score >= 0.6:\n",
    "            print(\"D\")\n",
    "        else:\n",
    "            print(\"F\")\n",
    "    else:\n",
    "        raise ValueError\n",
    "except ValueError:\n",
    "    print(\"Invalid Input\")"
   ]
  },
  {
   "cell_type": "markdown",
   "metadata": {},
   "source": [
    "A palindrome is a number or a text phrase that reads the same backwards as forwards. For example, each of the following five-digit integers are palindromes: 12321, 55555, 45554 and 11611. Write a program that reads in a five-digit integer and determines whether or not it is a palindrome. "
   ]
  },
  {
   "cell_type": "code",
   "execution_count": 3,
   "metadata": {},
   "outputs": [
    {
     "name": "stdout",
     "output_type": "stream",
     "text": [
      "Number : 12312\n",
      "12312 is not a palindrome\n"
     ]
    }
   ],
   "source": [
    "num = int(input(\"Enter a 5-digit number : \"))\n",
    "\n",
    "print(\"Number :\", num)\n",
    "print(num, end=\" \")             # this statement for formatting the output on the screen \n",
    "\n",
    "# 5th digit\n",
    "digit5= num%10\n",
    "num = num//10\n",
    "# 4th digit\n",
    "digit4 = num%10\n",
    "num = num//10\n",
    "# 3th digit\n",
    "digit3 = num%10\n",
    "num = num//10\n",
    "#2nd digit\n",
    "digit2 = num%10\n",
    "num = num//10\n",
    "# 1st digit\n",
    "digit1 = num%10\n",
    "num = num//10\n",
    "\n",
    "if digit1 == digit5 and digit2==digit4:\n",
    "    print(\"is a palindrome\")\n",
    "\n",
    "else:\n",
    "    print(\"is not a palindrome\")"
   ]
  },
  {
   "cell_type": "markdown",
   "metadata": {},
   "source": [
    "Write a program that asks the user for an hour between 1 and 12, asks them to enter am or pm, and asks them how many hours into the future they want to go. Print out what the hour will be that many hours into the future, printing am or pm as appropriate. "
   ]
  },
  {
   "cell_type": "code",
   "execution_count": 11,
   "metadata": {},
   "outputs": [
    {
     "name": "stdout",
     "output_type": "stream",
     "text": [
      "Enter a hour : 8\n",
      "am (1) or pm (2)? 1\n",
      "How many hours ahead? 5\n",
      "New hours: 1 pm\n"
     ]
    }
   ],
   "source": [
    "hour = int(input(\"Enter a hour : \"))\n",
    "print(\"Enter a hour :\", hour)\n",
    "\n",
    "amOrpm = int (input(\"am (1) or pm (2)?\"))\n",
    "print(\"am (1) or pm (2)?\", amOrpm)\n",
    "\n",
    "hourTravel = int(input(\"How many hours ahead? \"))\n",
    "print(\"How many hours ahead?\", hourTravel)\n",
    "\n",
    "newhours = hour+ hourTravel\n",
    "if newhours >12:\n",
    "    newhours = newhours - 12\n",
    "    if  amOrpm == 1:\n",
    "        print(f\"New hours: {newhours} pm\")\n",
    "    else:\n",
    "        print(f\"New hours: {newhours} am\")\n",
    "else:\n",
    "    if  amOrpm == 1:\n",
    "        print(f\"New hours: {newhours} am\")\n",
    "    else:\n",
    "        print(f\"New hours: {newhours} pm\")\n"
   ]
  }
 ],
 "metadata": {
  "kernelspec": {
   "display_name": "Python 3",
   "language": "python",
   "name": "python3"
  },
  "language_info": {
   "codemirror_mode": {
    "name": "ipython",
    "version": 3
   },
   "file_extension": ".py",
   "mimetype": "text/x-python",
   "name": "python",
   "nbconvert_exporter": "python",
   "pygments_lexer": "ipython3",
   "version": "3.12.0"
  }
 },
 "nbformat": 4,
 "nbformat_minor": 2
}
