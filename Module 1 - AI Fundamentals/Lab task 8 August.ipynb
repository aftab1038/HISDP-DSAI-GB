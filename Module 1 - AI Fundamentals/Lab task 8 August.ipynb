{
 "cells": [
  {
   "cell_type": "markdown",
   "metadata": {},
   "source": [
    "Import Random Tasks:\n",
    "1. Generate a random integer between 1 and 100\n",
    "2. Simulate a coin toss (heads or tails)\n",
    "3. Generate a random float between 0 and 1\n",
    "4. Select a random element from a list\n",
    "5. Generate a random password (alphanumeric, 8 characters long)\n",
    "6. Simulate a dice roll (1-6)\n",
    "7. Generate a random number between -10 and 10"
   ]
  },
  {
   "cell_type": "code",
   "execution_count": 55,
   "metadata": {},
   "outputs": [
    {
     "name": "stdout",
     "output_type": "stream",
     "text": [
      "1. Generate a random integer between 1 and 100 : 84\n",
      "2. Simulate a coin toss (heads or tails) : Tail\n",
      "3. Generate a random float between 0 and 1 : 0.6663852123239773\n",
      "4. Select a random element from a list : ['I']\n",
      "6. Simulate a dice roll (1-6) : 4\n",
      "7. Generate a random number between -10 and 10 : -3\n"
     ]
    }
   ],
   "source": [
    "import random\n",
    "\n",
    "print(f\"1. Generate a random integer between 1 and 100 : {random.randint(1,100)}\")\n",
    "print(f\"2. Simulate a coin toss (heads or tails) : {random.choice([\"Head\", \"Tail\"])}\")\n",
    "print(f\"3. Generate a random float between 0 and 1 : {random.random()}\")\n",
    "list = [\"A\", \"E\", \"I\", \"O\", \"U\"]\n",
    "print(f\"4. Select a random element from a list : {random.choices(list)}\")\n",
    "# print(f\"5. Generate a random password (alphanumeric, 8 characters long) : {}\")\n",
    "print(f\"6. Simulate a dice roll (1-6) : {random.randint(1, 6)}\")\n",
    "print(f\"7. Generate a random number between -10 and 10 : {random.randint(-10, 10)}\")\n",
    "\n"
   ]
  },
  {
   "cell_type": "markdown",
   "metadata": {},
   "source": [
    "Import Math Tasks:\n",
    "1. Calculate the square root of 25\n",
    "2. Calculate the sine of 60 degrees\n",
    "3. Calculate the ceiling of 3.7\n",
    "4. Calculate the floor of 3.7\n",
    "5. Calculate the absolute value of -5\n",
    "6. Calculate the power of 2 raised to 3\n",
    "7. Calculate the logarithm of 100\n",
    "8. Calculate the maximum of 10, 20, and 30"
   ]
  },
  {
   "cell_type": "code",
   "execution_count": 60,
   "metadata": {},
   "outputs": [
    {
     "name": "stdout",
     "output_type": "stream",
     "text": [
      "1. Calculate the square root of 25 : 5.0\n",
      "2. Calculate the sine of 60 degrees : 0.8660254037844386\n",
      "3. Calculate the ceiling of 3.7 : 4\n",
      "4. Calculate the floor of 3.7 : 3\n",
      "5. Calculate the absolute value of -5 : 5.0\n",
      "6. Calculate the power of 2 raised to 3 : 8\n",
      "7. Calculate the logarithm of 100 : 4.605170185988092\n"
     ]
    }
   ],
   "source": [
    "import math\n",
    "print(f\"1. Calculate the square root of 25 : {math.sqrt(25)}\")\n",
    "print(f\"2. Calculate the sine of 60 degrees : {math.sin(math.radians(60))}\")\n",
    "print(f\"3. Calculate the ceiling of 3.7 : {math.ceil(3.7)}\")\n",
    "print(f\"4. Calculate the floor of 3.7 : {math.floor(3.7)}\")\n",
    "print(f\"5. Calculate the absolute value of -5 : {math.copysign(-5, 0)}\")\n",
    "print(f\"6. Calculate the power of 2 raised to 3 : {pow(2,3)}\")\n",
    "print(f\"7. Calculate the logarithm of 100 : {math.log(100)}\")\n",
    "#print(f\"8. Calculate the maximum of 10, 20, and 30 {math.}\")"
   ]
  }
 ],
 "metadata": {
  "kernelspec": {
   "display_name": "Python 3",
   "language": "python",
   "name": "python3"
  },
  "language_info": {
   "codemirror_mode": {
    "name": "ipython",
    "version": 3
   },
   "file_extension": ".py",
   "mimetype": "text/x-python",
   "name": "python",
   "nbconvert_exporter": "python",
   "pygments_lexer": "ipython3",
   "version": "3.12.0"
  }
 },
 "nbformat": 4,
 "nbformat_minor": 2
}
